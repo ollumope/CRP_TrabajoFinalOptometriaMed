{
 "nbformat": 4,
 "nbformat_minor": 2,
 "metadata": {
  "language_info": {
   "name": "python",
   "codemirror_mode": {
    "name": "ipython",
    "version": 3
   },
   "version": "3.7.6-final"
  },
  "orig_nbformat": 2,
  "file_extension": ".py",
  "mimetype": "text/x-python",
  "name": "python",
  "npconvert_exporter": "python",
  "pygments_lexer": "ipython3",
  "version": 3,
  "kernelspec": {
   "name": "python37664bitdaae7f18768d4218891c67d22d069c83",
   "display_name": "Python 3.7.6 64-bit"
  }
 },
 "cells": [
  {
   "cell_type": "code",
   "execution_count": 32,
   "metadata": {},
   "outputs": [],
   "source": [
    "import pandas as pd\n",
    "import xlrd\n",
    "import numpy as np"
   ]
  },
  {
   "cell_type": "code",
   "execution_count": 8,
   "metadata": {},
   "outputs": [],
   "source": [
    "atencion = pd.read_excel('ATENCIONES_D.xlsx',sheet_name='Hoja1')\n",
    "inscripcion = pd.read_excel('INSCRIPCIONES_D.xlsx',sheet_name='INSCRITOS')"
   ]
  },
  {
   "cell_type": "code",
   "execution_count": 9,
   "metadata": {},
   "outputs": [
    {
     "data": {
      "text/html": "<div>\n<style scoped>\n    .dataframe tbody tr th:only-of-type {\n        vertical-align: middle;\n    }\n\n    .dataframe tbody tr th {\n        vertical-align: top;\n    }\n\n    .dataframe thead th {\n        text-align: right;\n    }\n</style>\n<table border=\"1\" class=\"dataframe\">\n  <thead>\n    <tr style=\"text-align: right;\">\n      <th></th>\n      <th>COMUNA</th>\n      <th>Ficho_Inscripcion</th>\n      <th>Fecha_inscrip</th>\n      <th>Dire_com</th>\n      <th>Tip_Doc</th>\n      <th>ID</th>\n      <th>Fechanac</th>\n      <th>Edad</th>\n      <th>Genero</th>\n      <th>Barrio</th>\n      <th>...</th>\n      <th>Tiem_gafas</th>\n      <th>Glaucoma</th>\n      <th>Enfermedad</th>\n      <th>Descripcion</th>\n      <th>SISBEN</th>\n      <th>Grupo Edad</th>\n      <th>COD_BARRIO</th>\n      <th>Unnamed: 23</th>\n      <th>Categ</th>\n      <th>Ctd</th>\n    </tr>\n  </thead>\n  <tbody>\n    <tr>\n      <th>0</th>\n      <td>70</td>\n      <td>1</td>\n      <td>43577</td>\n      <td>CASA DE GOBIERNO ALTAVISTA</td>\n      <td>CC</td>\n      <td>22023886</td>\n      <td>1959-04-17</td>\n      <td>60.0</td>\n      <td>M</td>\n      <td>ALTAVISTA</td>\n      <td>...</td>\n      <td>Mas de 2 años</td>\n      <td>Si</td>\n      <td>G</td>\n      <td>TENGO UNA BOLA EN EL PARPADO SUPERIOR IZQUIERD...</td>\n      <td>Si</td>\n      <td>MAYOR DE 60</td>\n      <td>7084</td>\n      <td>0</td>\n      <td>NO ATENDER</td>\n      <td>1</td>\n    </tr>\n    <tr>\n      <th>1</th>\n      <td>70</td>\n      <td>2</td>\n      <td>43577</td>\n      <td>CASA DE GOBIERNO ALTAVISTA</td>\n      <td>CC</td>\n      <td>3566898</td>\n      <td>1953-03-21</td>\n      <td>66.0</td>\n      <td>H</td>\n      <td>LA ESPERANZA</td>\n      <td>...</td>\n      <td>NaN</td>\n      <td>NaN</td>\n      <td>NaN</td>\n      <td>NaN</td>\n      <td>NaN</td>\n      <td>MAYOR DE 60</td>\n      <td>7083</td>\n      <td>3566898</td>\n      <td>ATENDER</td>\n      <td>1</td>\n    </tr>\n    <tr>\n      <th>2</th>\n      <td>70</td>\n      <td>3</td>\n      <td>43577</td>\n      <td>CASA DE GOBIERNO ALTAVISTA</td>\n      <td>CC</td>\n      <td>3651220</td>\n      <td>1954-08-24</td>\n      <td>64.0</td>\n      <td>H</td>\n      <td>EL CONSEJO</td>\n      <td>...</td>\n      <td>Mas de 2 años</td>\n      <td>NaN</td>\n      <td>D</td>\n      <td>ME ARDEN Y NO PUEDO VER</td>\n      <td>Si</td>\n      <td>MAYOR DE 60</td>\n      <td>7005</td>\n      <td>3651220</td>\n      <td>ATENDER</td>\n      <td>1</td>\n    </tr>\n    <tr>\n      <th>3</th>\n      <td>70</td>\n      <td>4</td>\n      <td>43577</td>\n      <td>CASA DE GOBIERNO ALTAVISTA</td>\n      <td>CC</td>\n      <td>70102546</td>\n      <td>1957-09-03</td>\n      <td>61.0</td>\n      <td>H</td>\n      <td>NaN</td>\n      <td>...</td>\n      <td>Mas de 2 años</td>\n      <td>No</td>\n      <td>NaN</td>\n      <td>NO VEO, SE ME NUBLAN LOS OJOS Y ME ARDEN</td>\n      <td>No</td>\n      <td>MAYOR DE 60</td>\n      <td>7087</td>\n      <td>70102546</td>\n      <td>ATENDER</td>\n      <td>1</td>\n    </tr>\n    <tr>\n      <th>4</th>\n      <td>70</td>\n      <td>5</td>\n      <td>43577</td>\n      <td>CASA DE GOBIERNO ALTAVISTA</td>\n      <td>CC</td>\n      <td>32400950</td>\n      <td>1942-10-06</td>\n      <td>76.0</td>\n      <td>M</td>\n      <td>NaN</td>\n      <td>...</td>\n      <td>Mas de 2 años</td>\n      <td>No</td>\n      <td>H</td>\n      <td>NaN</td>\n      <td>Si</td>\n      <td>MAYOR DE 60</td>\n      <td>7087</td>\n      <td>0</td>\n      <td>NO ATENDER</td>\n      <td>1</td>\n    </tr>\n  </tbody>\n</table>\n<p>5 rows × 26 columns</p>\n</div>",
      "text/plain": "   COMUNA Ficho_Inscripcion Fecha_inscrip                    Dire_com Tip_Doc  \\\n0      70                 1         43577  CASA DE GOBIERNO ALTAVISTA     CC    \n1      70                 2         43577  CASA DE GOBIERNO ALTAVISTA     CC    \n2      70                 3         43577  CASA DE GOBIERNO ALTAVISTA     CC    \n3      70                 4         43577  CASA DE GOBIERNO ALTAVISTA     CC    \n4      70                 5         43577  CASA DE GOBIERNO ALTAVISTA     CC    \n\n         ID   Fechanac  Edad Genero         Barrio  ...     Tiem_gafas  \\\n0  22023886 1959-04-17  60.0      M     ALTAVISTA   ...  Mas de 2 años   \n1   3566898 1953-03-21  66.0      H  LA ESPERANZA   ...            NaN   \n2   3651220 1954-08-24  64.0      H    EL CONSEJO   ...  Mas de 2 años   \n3  70102546 1957-09-03  61.0      H            NaN  ...  Mas de 2 años   \n4  32400950 1942-10-06  76.0      M            NaN  ...  Mas de 2 años   \n\n  Glaucoma Enfermedad                                        Descripcion  \\\n0       Si          G  TENGO UNA BOLA EN EL PARPADO SUPERIOR IZQUIERD...   \n1      NaN        NaN                                                NaN   \n2      NaN          D                           ME ARDEN Y NO PUEDO VER    \n3       No        NaN           NO VEO, SE ME NUBLAN LOS OJOS Y ME ARDEN   \n4       No          H                                                NaN   \n\n  SISBEN   Grupo Edad COD_BARRIO Unnamed: 23       Categ Ctd  \n0     Si  MAYOR DE 60       7084           0  NO ATENDER   1  \n1    NaN  MAYOR DE 60       7083     3566898     ATENDER   1  \n2     Si  MAYOR DE 60       7005     3651220     ATENDER   1  \n3     No  MAYOR DE 60       7087    70102546     ATENDER   1  \n4     Si  MAYOR DE 60       7087           0  NO ATENDER   1  \n\n[5 rows x 26 columns]"
     },
     "execution_count": 9,
     "metadata": {},
     "output_type": "execute_result"
    }
   ],
   "source": [
    "inscripcion.head()"
   ]
  },
  {
   "cell_type": "code",
   "execution_count": 10,
   "metadata": {},
   "outputs": [
    {
     "data": {
      "text/html": "<div>\n<style scoped>\n    .dataframe tbody tr th:only-of-type {\n        vertical-align: middle;\n    }\n\n    .dataframe tbody tr th {\n        vertical-align: top;\n    }\n\n    .dataframe thead th {\n        text-align: right;\n    }\n</style>\n<table border=\"1\" class=\"dataframe\">\n  <thead>\n    <tr style=\"text-align: right;\">\n      <th></th>\n      <th>FICHO</th>\n      <th>CONSECUTIVO</th>\n      <th>ID</th>\n      <th>EDAD</th>\n      <th>GRUPO EDAD</th>\n      <th>OPTOMETRA</th>\n      <th>FECHA ATENCION\\nCONSULTA</th>\n      <th>CONSULTA</th>\n      <th>ESTUCHE Y PAÑO</th>\n      <th>MONTURA</th>\n      <th>...</th>\n      <th>7\\nLentes bifocales flat top policarbonato</th>\n      <th>8\\nLentes bifocales invisible CR-39 terminados</th>\n      <th>9\\nLentes bifocales invisible CR-39 tallados</th>\n      <th>10\\nLentes bifocales invisible policarbonato</th>\n      <th>11\\nLentes progresivos en CR-39</th>\n      <th>12\\nLentes progresivos en policarbonato</th>\n      <th>TOTAL LENTES UNITARIOS</th>\n      <th>REFERENCIA MONTURA</th>\n      <th>VALOR USUARIO</th>\n      <th>Unnamed: 38</th>\n    </tr>\n  </thead>\n  <tbody>\n    <tr>\n      <th>0</th>\n      <td>1</td>\n      <td>44402.0</td>\n      <td>4.277358e+07</td>\n      <td>51.0</td>\n      <td>ENTRE 18 Y 59</td>\n      <td>2</td>\n      <td>2019-05-13</td>\n      <td>1.0</td>\n      <td>1.0</td>\n      <td>1.0</td>\n      <td>...</td>\n      <td>0</td>\n      <td>0</td>\n      <td>0</td>\n      <td>0</td>\n      <td>0</td>\n      <td>0</td>\n      <td>2.0</td>\n      <td>DG5676</td>\n      <td>99020</td>\n      <td>70</td>\n    </tr>\n    <tr>\n      <th>1</th>\n      <td>2</td>\n      <td>44351.0</td>\n      <td>1.152223e+09</td>\n      <td>20.0</td>\n      <td>ENTRE 18 Y 59</td>\n      <td>1</td>\n      <td>2019-05-13</td>\n      <td>1.0</td>\n      <td>1.0</td>\n      <td>1.0</td>\n      <td>...</td>\n      <td>0</td>\n      <td>0</td>\n      <td>0</td>\n      <td>0</td>\n      <td>0</td>\n      <td>0</td>\n      <td>2.0</td>\n      <td>ERA2183</td>\n      <td>110254</td>\n      <td>70</td>\n    </tr>\n    <tr>\n      <th>2</th>\n      <td>3</td>\n      <td>44451.0</td>\n      <td>4.320362e+07</td>\n      <td>39.0</td>\n      <td>ENTRE 18 Y 59</td>\n      <td>3</td>\n      <td>2019-05-13</td>\n      <td>1.0</td>\n      <td>1.0</td>\n      <td>1.0</td>\n      <td>...</td>\n      <td>0</td>\n      <td>0</td>\n      <td>0</td>\n      <td>0</td>\n      <td>0</td>\n      <td>0</td>\n      <td>2.0</td>\n      <td>FLA1530</td>\n      <td>105112</td>\n      <td>70</td>\n    </tr>\n    <tr>\n      <th>3</th>\n      <td>4</td>\n      <td>44403.0</td>\n      <td>4.355560e+07</td>\n      <td>59.0</td>\n      <td>ENTRE 18 Y 59</td>\n      <td>2</td>\n      <td>2019-05-13</td>\n      <td>1.0</td>\n      <td>1.0</td>\n      <td>1.0</td>\n      <td>...</td>\n      <td>0</td>\n      <td>0</td>\n      <td>0</td>\n      <td>0</td>\n      <td>0</td>\n      <td>2</td>\n      <td>2.0</td>\n      <td>WF135</td>\n      <td>235478</td>\n      <td>70</td>\n    </tr>\n    <tr>\n      <th>4</th>\n      <td>5</td>\n      <td>44352.0</td>\n      <td>1.037618e+09</td>\n      <td>27.0</td>\n      <td>ENTRE 18 Y 59</td>\n      <td>1</td>\n      <td>2019-05-13</td>\n      <td>1.0</td>\n      <td>1.0</td>\n      <td>1.0</td>\n      <td>...</td>\n      <td>0</td>\n      <td>0</td>\n      <td>0</td>\n      <td>0</td>\n      <td>0</td>\n      <td>0</td>\n      <td>2.0</td>\n      <td>DA668</td>\n      <td>99020</td>\n      <td>70</td>\n    </tr>\n  </tbody>\n</table>\n<p>5 rows × 39 columns</p>\n</div>",
      "text/plain": "  FICHO  CONSECUTIVO            ID  EDAD     GRUPO EDAD OPTOMETRA  \\\n0     1      44402.0  4.277358e+07  51.0  ENTRE 18 Y 59         2   \n1     2      44351.0  1.152223e+09  20.0  ENTRE 18 Y 59         1   \n2     3      44451.0  4.320362e+07  39.0  ENTRE 18 Y 59         3   \n3     4      44403.0  4.355560e+07  59.0  ENTRE 18 Y 59         2   \n4     5      44352.0  1.037618e+09  27.0  ENTRE 18 Y 59         1   \n\n  FECHA ATENCION\\nCONSULTA  CONSULTA  ESTUCHE Y PAÑO  MONTURA  ...  \\\n0               2019-05-13       1.0             1.0      1.0  ...   \n1               2019-05-13       1.0             1.0      1.0  ...   \n2               2019-05-13       1.0             1.0      1.0  ...   \n3               2019-05-13       1.0             1.0      1.0  ...   \n4               2019-05-13       1.0             1.0      1.0  ...   \n\n  7\\nLentes bifocales flat top policarbonato  \\\n0                                          0   \n1                                          0   \n2                                          0   \n3                                          0   \n4                                          0   \n\n  8\\nLentes bifocales invisible CR-39 terminados  \\\n0                                              0   \n1                                              0   \n2                                              0   \n3                                              0   \n4                                              0   \n\n  9\\nLentes bifocales invisible CR-39 tallados  \\\n0                                            0   \n1                                            0   \n2                                            0   \n3                                            0   \n4                                            0   \n\n  10\\nLentes bifocales invisible policarbonato  \\\n0                                            0   \n1                                            0   \n2                                            0   \n3                                            0   \n4                                            0   \n\n  11\\nLentes progresivos en CR-39  12\\nLentes progresivos en policarbonato  \\\n0                               0                                        0   \n1                               0                                        0   \n2                               0                                        0   \n3                               0                                        2   \n4                               0                                        0   \n\n  TOTAL LENTES UNITARIOS REFERENCIA MONTURA VALOR USUARIO Unnamed: 38  \n0                    2.0             DG5676         99020          70  \n1                    2.0            ERA2183        110254          70  \n2                    2.0            FLA1530        105112          70  \n3                    2.0              WF135        235478          70  \n4                    2.0              DA668         99020          70  \n\n[5 rows x 39 columns]"
     },
     "execution_count": 10,
     "metadata": {},
     "output_type": "execute_result"
    }
   ],
   "source": [
    "atencion.head()"
   ]
  },
  {
   "cell_type": "code",
   "execution_count": 30,
   "metadata": {},
   "outputs": [],
   "source": [
    "optometria = atencion.merge(inscripcion, left_on = 'ID', right_on = 'ID', how = 'left')"
   ]
  },
  {
   "cell_type": "code",
   "execution_count": 31,
   "metadata": {},
   "outputs": [
    {
     "data": {
      "text/html": "<div>\n<style scoped>\n    .dataframe tbody tr th:only-of-type {\n        vertical-align: middle;\n    }\n\n    .dataframe tbody tr th {\n        vertical-align: top;\n    }\n\n    .dataframe thead th {\n        text-align: right;\n    }\n</style>\n<table border=\"1\" class=\"dataframe\">\n  <thead>\n    <tr style=\"text-align: right;\">\n      <th></th>\n      <th>CONSECUTIVO</th>\n      <th>ID</th>\n      <th>EDAD</th>\n      <th>CONSULTA</th>\n      <th>ESTUCHE Y PAÑO</th>\n      <th>MONTURA</th>\n      <th>EJE-OD</th>\n      <th>2\\nLentes monofocales en CR-39 tallados</th>\n      <th>3\\nLentes monofocales en policarbonato terminados\\n</th>\n      <th>5\\nLentes bifocales flat top CR-39 terminados</th>\n      <th>...</th>\n      <th>10\\nLentes bifocales invisible policarbonato</th>\n      <th>11\\nLentes progresivos en CR-39</th>\n      <th>12\\nLentes progresivos en policarbonato</th>\n      <th>TOTAL LENTES UNITARIOS</th>\n      <th>VALOR USUARIO</th>\n      <th>Unnamed: 38</th>\n      <th>COMUNA</th>\n      <th>Edad</th>\n      <th>Unnamed: 23</th>\n      <th>Ctd</th>\n    </tr>\n  </thead>\n  <tbody>\n    <tr>\n      <th>count</th>\n      <td>8149.000000</td>\n      <td>8.149000e+03</td>\n      <td>8149.000000</td>\n      <td>8149.0</td>\n      <td>7792.0</td>\n      <td>7792.0</td>\n      <td>4622.000000</td>\n      <td>8144.000000</td>\n      <td>8144.000000</td>\n      <td>8151.000000</td>\n      <td>...</td>\n      <td>8151.000000</td>\n      <td>8151.000000</td>\n      <td>8151.000000</td>\n      <td>8147.000000</td>\n      <td>8151.000000</td>\n      <td>8151.000000</td>\n      <td>7835.000000</td>\n      <td>7832.000000</td>\n      <td>7.835000e+03</td>\n      <td>7835.0</td>\n    </tr>\n    <tr>\n      <th>mean</th>\n      <td>46945.464106</td>\n      <td>5.811139e+12</td>\n      <td>47.994723</td>\n      <td>1.0</td>\n      <td>1.0</td>\n      <td>1.0</td>\n      <td>68.307984</td>\n      <td>0.035363</td>\n      <td>0.108546</td>\n      <td>0.022574</td>\n      <td>...</td>\n      <td>0.119740</td>\n      <td>0.486566</td>\n      <td>0.402282</td>\n      <td>1.912115</td>\n      <td>150643.336891</td>\n      <td>23.723838</td>\n      <td>24.148692</td>\n      <td>48.241701</td>\n      <td>6.023104e+12</td>\n      <td>1.0</td>\n    </tr>\n    <tr>\n      <th>std</th>\n      <td>2799.534425</td>\n      <td>7.251446e+13</td>\n      <td>14.589190</td>\n      <td>0.0</td>\n      <td>0.0</td>\n      <td>0.0</td>\n      <td>51.530083</td>\n      <td>0.235553</td>\n      <td>0.443276</td>\n      <td>0.195610</td>\n      <td>...</td>\n      <td>0.474521</td>\n      <td>0.857896</td>\n      <td>0.801679</td>\n      <td>0.409960</td>\n      <td>60105.064583</td>\n      <td>21.322529</td>\n      <td>21.631484</td>\n      <td>14.546591</td>\n      <td>7.393404e+13</td>\n      <td>0.0</td>\n    </tr>\n    <tr>\n      <th>min</th>\n      <td>4545.000000</td>\n      <td>1.919140e+05</td>\n      <td>0.000000</td>\n      <td>1.0</td>\n      <td>1.0</td>\n      <td>1.0</td>\n      <td>0.000000</td>\n      <td>0.000000</td>\n      <td>0.000000</td>\n      <td>0.000000</td>\n      <td>...</td>\n      <td>0.000000</td>\n      <td>0.000000</td>\n      <td>0.000000</td>\n      <td>0.000000</td>\n      <td>0.000000</td>\n      <td>11.000000</td>\n      <td>11.000000</td>\n      <td>18.000000</td>\n      <td>1.919140e+05</td>\n      <td>1.0</td>\n    </tr>\n    <tr>\n      <th>25%</th>\n      <td>44576.000000</td>\n      <td>4.268571e+07</td>\n      <td>39.000000</td>\n      <td>1.0</td>\n      <td>1.0</td>\n      <td>1.0</td>\n      <td>15.000000</td>\n      <td>0.000000</td>\n      <td>0.000000</td>\n      <td>0.000000</td>\n      <td>...</td>\n      <td>0.000000</td>\n      <td>0.000000</td>\n      <td>0.000000</td>\n      <td>2.000000</td>\n      <td>99020.000000</td>\n      <td>13.000000</td>\n      <td>13.000000</td>\n      <td>39.000000</td>\n      <td>4.202333e+07</td>\n      <td>1.0</td>\n    </tr>\n    <tr>\n      <th>50%</th>\n      <td>47148.000000</td>\n      <td>4.353933e+07</td>\n      <td>51.000000</td>\n      <td>1.0</td>\n      <td>1.0</td>\n      <td>1.0</td>\n      <td>80.000000</td>\n      <td>0.000000</td>\n      <td>0.000000</td>\n      <td>0.000000</td>\n      <td>...</td>\n      <td>0.000000</td>\n      <td>0.000000</td>\n      <td>0.000000</td>\n      <td>2.000000</td>\n      <td>135342.000000</td>\n      <td>13.000000</td>\n      <td>13.000000</td>\n      <td>51.000000</td>\n      <td>4.353290e+07</td>\n      <td>1.0</td>\n    </tr>\n    <tr>\n      <th>75%</th>\n      <td>49212.000000</td>\n      <td>7.173814e+07</td>\n      <td>57.000000</td>\n      <td>1.0</td>\n      <td>1.0</td>\n      <td>1.0</td>\n      <td>95.000000</td>\n      <td>0.000000</td>\n      <td>0.000000</td>\n      <td>0.000000</td>\n      <td>...</td>\n      <td>0.000000</td>\n      <td>0.000000</td>\n      <td>0.000000</td>\n      <td>2.000000</td>\n      <td>190226.000000</td>\n      <td>15.000000</td>\n      <td>15.000000</td>\n      <td>57.000000</td>\n      <td>7.172321e+07</td>\n      <td>1.0</td>\n    </tr>\n    <tr>\n      <th>max</th>\n      <td>61977.000000</td>\n      <td>9.636632e+14</td>\n      <td>99.000000</td>\n      <td>1.0</td>\n      <td>1.0</td>\n      <td>1.0</td>\n      <td>180.000000</td>\n      <td>2.000000</td>\n      <td>2.000000</td>\n      <td>2.000000</td>\n      <td>...</td>\n      <td>2.000000</td>\n      <td>2.000000</td>\n      <td>2.000000</td>\n      <td>2.000000</td>\n      <td>235478.000000</td>\n      <td>70.000000</td>\n      <td>70.000000</td>\n      <td>99.000000</td>\n      <td>9.636632e+14</td>\n      <td>1.0</td>\n    </tr>\n  </tbody>\n</table>\n<p>8 rows × 24 columns</p>\n</div>",
      "text/plain": "        CONSECUTIVO            ID         EDAD  CONSULTA  ESTUCHE Y PAÑO  \\\ncount   8149.000000  8.149000e+03  8149.000000    8149.0          7792.0   \nmean   46945.464106  5.811139e+12    47.994723       1.0             1.0   \nstd     2799.534425  7.251446e+13    14.589190       0.0             0.0   \nmin     4545.000000  1.919140e+05     0.000000       1.0             1.0   \n25%    44576.000000  4.268571e+07    39.000000       1.0             1.0   \n50%    47148.000000  4.353933e+07    51.000000       1.0             1.0   \n75%    49212.000000  7.173814e+07    57.000000       1.0             1.0   \nmax    61977.000000  9.636632e+14    99.000000       1.0             1.0   \n\n       MONTURA       EJE-OD  2\\nLentes monofocales en CR-39 tallados  \\\ncount   7792.0  4622.000000                              8144.000000   \nmean       1.0    68.307984                                 0.035363   \nstd        0.0    51.530083                                 0.235553   \nmin        1.0     0.000000                                 0.000000   \n25%        1.0    15.000000                                 0.000000   \n50%        1.0    80.000000                                 0.000000   \n75%        1.0    95.000000                                 0.000000   \nmax        1.0   180.000000                                 2.000000   \n\n       3\\nLentes monofocales en policarbonato terminados\\n  \\\ncount                                        8144.000000     \nmean                                            0.108546     \nstd                                             0.443276     \nmin                                             0.000000     \n25%                                             0.000000     \n50%                                             0.000000     \n75%                                             0.000000     \nmax                                             2.000000     \n\n       5\\nLentes bifocales flat top CR-39 terminados  ...  \\\ncount                                    8151.000000  ...   \nmean                                        0.022574  ...   \nstd                                         0.195610  ...   \nmin                                         0.000000  ...   \n25%                                         0.000000  ...   \n50%                                         0.000000  ...   \n75%                                         0.000000  ...   \nmax                                         2.000000  ...   \n\n       10\\nLentes bifocales invisible policarbonato  \\\ncount                                   8151.000000   \nmean                                       0.119740   \nstd                                        0.474521   \nmin                                        0.000000   \n25%                                        0.000000   \n50%                                        0.000000   \n75%                                        0.000000   \nmax                                        2.000000   \n\n       11\\nLentes progresivos en CR-39  \\\ncount                      8151.000000   \nmean                          0.486566   \nstd                           0.857896   \nmin                           0.000000   \n25%                           0.000000   \n50%                           0.000000   \n75%                           0.000000   \nmax                           2.000000   \n\n       12\\nLentes progresivos en policarbonato  TOTAL LENTES UNITARIOS  \\\ncount                              8151.000000             8147.000000   \nmean                                  0.402282                1.912115   \nstd                                   0.801679                0.409960   \nmin                                   0.000000                0.000000   \n25%                                   0.000000                2.000000   \n50%                                   0.000000                2.000000   \n75%                                   0.000000                2.000000   \nmax                                   2.000000                2.000000   \n\n       VALOR USUARIO  Unnamed: 38       COMUNA         Edad   Unnamed: 23  \\\ncount    8151.000000  8151.000000  7835.000000  7832.000000  7.835000e+03   \nmean   150643.336891    23.723838    24.148692    48.241701  6.023104e+12   \nstd     60105.064583    21.322529    21.631484    14.546591  7.393404e+13   \nmin         0.000000    11.000000    11.000000    18.000000  1.919140e+05   \n25%     99020.000000    13.000000    13.000000    39.000000  4.202333e+07   \n50%    135342.000000    13.000000    13.000000    51.000000  4.353290e+07   \n75%    190226.000000    15.000000    15.000000    57.000000  7.172321e+07   \nmax    235478.000000    70.000000    70.000000    99.000000  9.636632e+14   \n\n          Ctd  \ncount  7835.0  \nmean      1.0  \nstd       0.0  \nmin       1.0  \n25%       1.0  \n50%       1.0  \n75%       1.0  \nmax       1.0  \n\n[8 rows x 24 columns]"
     },
     "execution_count": 31,
     "metadata": {},
     "output_type": "execute_result"
    }
   ],
   "source": [
    "optometria.describe()"
   ]
  },
  {
   "cell_type": "code",
   "execution_count": 42,
   "metadata": {},
   "outputs": [],
   "source": [
    "optometria['Astigmatismo'] = np.where(optometria['DX PPAL CIE 10'] == 'H522',1,0)"
   ]
  },
  {
   "cell_type": "markdown",
   "execution_count": null,
   "metadata": {},
   "outputs": [],
   "source": [
    "Eliminacion de acuerdo al juicio del experto"
   ]
  },
  {
   "cell_type": "code",
   "execution_count": 52,
   "metadata": {},
   "outputs": [],
   "source": [
    "columnas = ['EDAD','CONSULTA','ESTUCHE Y PAÑO','MONTURA', 'DX\\nPPAL\\nCIE 10','ESFERA-OD','CILINDRO-OD','EJE-OD','ADD-OD','TIPO LENTE-OD','ESFERA-OI','CILINDRO-OI','EJE-OI','ADD-OI','TIPO LENTE-OI','Genero','Usa_Gafas','Glaucoma','Enfermedad', 'ocupacion','Dir_Res','poblacion','etnia','Exam_ojos','Usa_Gafas','Tiem_gafas','Descripcion','SISBEN','COD_BARRIO','Astigmatismo']"
   ]
  },
  {
   "cell_type": "code",
   "execution_count": 53,
   "metadata": {},
   "outputs": [],
   "source": [
    "optometria_dep = optometria[columnas]"
   ]
  },
  {
   "cell_type": "code",
   "execution_count": 54,
   "metadata": {},
   "outputs": [
    {
     "data": {
      "text/html": "<div>\n<style scoped>\n    .dataframe tbody tr th:only-of-type {\n        vertical-align: middle;\n    }\n\n    .dataframe tbody tr th {\n        vertical-align: top;\n    }\n\n    .dataframe thead th {\n        text-align: right;\n    }\n</style>\n<table border=\"1\" class=\"dataframe\">\n  <thead>\n    <tr style=\"text-align: right;\">\n      <th></th>\n      <th>EDAD</th>\n      <th>CONSULTA</th>\n      <th>ESTUCHE Y PAÑO</th>\n      <th>MONTURA</th>\n      <th>DX\\nPPAL\\nCIE 10</th>\n      <th>ESFERA-OD</th>\n      <th>CILINDRO-OD</th>\n      <th>EJE-OD</th>\n      <th>ADD-OD</th>\n      <th>TIPO LENTE-OD</th>\n      <th>...</th>\n      <th>Dir_Res</th>\n      <th>poblacion</th>\n      <th>etnia</th>\n      <th>Exam_ojos</th>\n      <th>Usa_Gafas</th>\n      <th>Tiem_gafas</th>\n      <th>Descripcion</th>\n      <th>SISBEN</th>\n      <th>COD_BARRIO</th>\n      <th>Astigmatismo</th>\n    </tr>\n  </thead>\n  <tbody>\n    <tr>\n      <th>0</th>\n      <td>51.0</td>\n      <td>1.0</td>\n      <td>1.0</td>\n      <td>1.0</td>\n      <td>H524</td>\n      <td>2</td>\n      <td>-0.5</td>\n      <td>100.0</td>\n      <td>NaN</td>\n      <td>1</td>\n      <td>...</td>\n      <td>CL 34B 125 42</td>\n      <td>NaN</td>\n      <td>Ninguna de las anteriores</td>\n      <td>De 1 a 2 años</td>\n      <td>Si</td>\n      <td>Mas de 2 años</td>\n      <td>DIFICULTAD PARA VER DE CERCA, MOLESTIA A LA LUZ</td>\n      <td>Si</td>\n      <td>7088</td>\n      <td>0</td>\n    </tr>\n    <tr>\n      <th>1</th>\n      <td>20.0</td>\n      <td>1.0</td>\n      <td>1.0</td>\n      <td>1.0</td>\n      <td>H522</td>\n      <td>N</td>\n      <td>-0.75</td>\n      <td>70.0</td>\n      <td>NaN</td>\n      <td>3</td>\n      <td>...</td>\n      <td>CL 34B 125 42</td>\n      <td>Reinsertado</td>\n      <td>Ninguna de las anteriores</td>\n      <td>De 1 a 2 años</td>\n      <td>Si</td>\n      <td>Mas de 2 años</td>\n      <td>BORROSO PARA VER DE LEJOS, MOLESTIA CON MUCHA ...</td>\n      <td>Si</td>\n      <td>7088</td>\n      <td>1</td>\n    </tr>\n    <tr>\n      <th>2</th>\n      <td>39.0</td>\n      <td>1.0</td>\n      <td>1.0</td>\n      <td>1.0</td>\n      <td>H522</td>\n      <td>-1</td>\n      <td>-2.5</td>\n      <td>5.0</td>\n      <td>NaN</td>\n      <td>2</td>\n      <td>...</td>\n      <td>CR 130 34B 98(INTERIOR 111)</td>\n      <td>NaN</td>\n      <td>Ninguna de las anteriores</td>\n      <td>De 1 a 2 años</td>\n      <td>Si</td>\n      <td>Mas de 2 años</td>\n      <td>NO VEO DE CERCA NI DE LEJOS</td>\n      <td>Si</td>\n      <td>7088</td>\n      <td>1</td>\n    </tr>\n    <tr>\n      <th>3</th>\n      <td>59.0</td>\n      <td>1.0</td>\n      <td>1.0</td>\n      <td>1.0</td>\n      <td>H524</td>\n      <td>1.5</td>\n      <td>NaN</td>\n      <td>NaN</td>\n      <td>2.75</td>\n      <td>12</td>\n      <td>...</td>\n      <td>CR 125 34AA 56</td>\n      <td>Madre cabeza de familia</td>\n      <td>Ninguna de las anteriores</td>\n      <td>Mas de 2 años</td>\n      <td>Si</td>\n      <td>Mas de 2 años</td>\n      <td>VEO OPACO</td>\n      <td>No</td>\n      <td>7088</td>\n      <td>0</td>\n    </tr>\n    <tr>\n      <th>4</th>\n      <td>27.0</td>\n      <td>1.0</td>\n      <td>1.0</td>\n      <td>1.0</td>\n      <td>H522</td>\n      <td>-0.25</td>\n      <td>NaN</td>\n      <td>NaN</td>\n      <td>NaN</td>\n      <td>1</td>\n      <td>...</td>\n      <td>CR 116 34 126(INTERIOR 191)</td>\n      <td>Ninguna de las anteriores</td>\n      <td>Ninguna de las anteriores</td>\n      <td>Mas de 2 años</td>\n      <td>Si</td>\n      <td>Mas de 2 años</td>\n      <td>ME ARDEN LOS OJOS, VEO BORROSO DE CERCA, SE ME...</td>\n      <td>Si</td>\n      <td>7088</td>\n      <td>1</td>\n    </tr>\n  </tbody>\n</table>\n<p>5 rows × 30 columns</p>\n</div>",
      "text/plain": "   EDAD  CONSULTA  ESTUCHE Y PAÑO  MONTURA DX\\nPPAL\\nCIE 10 ESFERA-OD  \\\n0  51.0       1.0             1.0      1.0             H524         2   \n1  20.0       1.0             1.0      1.0             H522         N   \n2  39.0       1.0             1.0      1.0             H522        -1   \n3  59.0       1.0             1.0      1.0             H524       1.5   \n4  27.0       1.0             1.0      1.0             H522     -0.25   \n\n  CILINDRO-OD  EJE-OD ADD-OD TIPO LENTE-OD  ...                      Dir_Res  \\\n0        -0.5   100.0    NaN             1  ...                CL 34B 125 42   \n1       -0.75    70.0    NaN             3  ...                CL 34B 125 42   \n2        -2.5     5.0    NaN             2  ...  CR 130 34B 98(INTERIOR 111)   \n3         NaN     NaN   2.75            12  ...               CR 125 34AA 56   \n4         NaN     NaN    NaN             1  ...  CR 116 34 126(INTERIOR 191)   \n\n                   poblacion                      etnia      Exam_ojos  \\\n0                        NaN  Ninguna de las anteriores  De 1 a 2 años   \n1                Reinsertado  Ninguna de las anteriores  De 1 a 2 años   \n2                        NaN  Ninguna de las anteriores  De 1 a 2 años   \n3    Madre cabeza de familia  Ninguna de las anteriores  Mas de 2 años   \n4  Ninguna de las anteriores  Ninguna de las anteriores  Mas de 2 años   \n\n  Usa_Gafas     Tiem_gafas                                        Descripcion  \\\n0        Si  Mas de 2 años    DIFICULTAD PARA VER DE CERCA, MOLESTIA A LA LUZ   \n1        Si  Mas de 2 años  BORROSO PARA VER DE LEJOS, MOLESTIA CON MUCHA ...   \n2        Si  Mas de 2 años                        NO VEO DE CERCA NI DE LEJOS   \n3        Si  Mas de 2 años                                          VEO OPACO   \n4        Si  Mas de 2 años  ME ARDEN LOS OJOS, VEO BORROSO DE CERCA, SE ME...   \n\n  SISBEN COD_BARRIO Astigmatismo  \n0     Si       7088            0  \n1     Si       7088            1  \n2     Si       7088            1  \n3     No       7088            0  \n4     Si       7088            1  \n\n[5 rows x 30 columns]"
     },
     "execution_count": 54,
     "metadata": {},
     "output_type": "execute_result"
    }
   ],
   "source": [
    "optometria_dep.head()"
   ]
  },
  {
   "cell_type": "code",
   "execution_count": 68,
   "metadata": {},
   "outputs": [
    {
     "name": "stderr",
     "output_type": "stream",
     "text": "/Users/yosel/Library/Python/3.7/lib/python/site-packages/ipykernel_launcher.py:1: SettingWithCopyWarning: \nA value is trying to be set on a copy of a slice from a DataFrame.\nTry using .loc[row_indexer,col_indexer] = value instead\n\nSee the caveats in the documentation: http://pandas.pydata.org/pandas-docs/stable/user_guide/indexing.html#returning-a-view-versus-a-copy\n  \"\"\"Entry point for launching an IPython kernel.\n"
    }
   ],
   "source": [
    "optometria_dep['Requiere_Gafas'] = np.where((optometria_dep['ESTUCHE Y PAÑO'] == 1) & (optometria_dep['MONTURA'] == 1) ,1,0) #1 Tiene gafas, 0 no tiene"
   ]
  },
  {
   "cell_type": "code",
   "execution_count": 63,
   "metadata": {},
   "outputs": [
    {
     "name": "stderr",
     "output_type": "stream",
     "text": "/Users/yosel/Library/Python/3.7/lib/python/site-packages/ipykernel_launcher.py:1: SettingWithCopyWarning: \nA value is trying to be set on a copy of a slice from a DataFrame.\nTry using .loc[row_indexer,col_indexer] = value instead\n\nSee the caveats in the documentation: http://pandas.pydata.org/pandas-docs/stable/user_guide/indexing.html#returning-a-view-versus-a-copy\n  \"\"\"Entry point for launching an IPython kernel.\n/Users/yosel/Library/Python/3.7/lib/python/site-packages/ipykernel_launcher.py:2: SettingWithCopyWarning: \nA value is trying to be set on a copy of a slice from a DataFrame.\nTry using .loc[row_indexer,col_indexer] = value instead\n\nSee the caveats in the documentation: http://pandas.pydata.org/pandas-docs/stable/user_guide/indexing.html#returning-a-view-versus-a-copy\n  \n/Users/yosel/Library/Python/3.7/lib/python/site-packages/ipykernel_launcher.py:3: SettingWithCopyWarning: \nA value is trying to be set on a copy of a slice from a DataFrame.\nTry using .loc[row_indexer,col_indexer] = value instead\n\nSee the caveats in the documentation: http://pandas.pydata.org/pandas-docs/stable/user_guide/indexing.html#returning-a-view-versus-a-copy\n  This is separate from the ipykernel package so we can avoid doing imports until\n"
    }
   ],
   "source": [
    "optometria_dep['Hipertension'] = optometria_dep['Enfermedad'].map(lambda x: str(x).upper().find('H')>0)\n",
    "optometria_dep['Diabetes'] = optometria_dep['Enfermedad'].map(lambda x: str(x).upper().find('D')>0)\n",
    "optometria_dep['Glaucoma'] = optometria_dep['Enfermedad'].map(lambda x: str(x).upper().find('G')>0)"
   ]
  },
  {
   "cell_type": "code",
   "execution_count": null,
   "metadata": {},
   "outputs": [],
   "source": []
  }
 ]
}